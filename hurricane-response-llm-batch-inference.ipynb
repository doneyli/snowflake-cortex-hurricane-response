{
 "cells": [
  {
   "cell_type": "code",
   "execution_count": null,
   "id": "3775908f-ca36-4846-8f38-5adca39217f2",
   "metadata": {
    "collapsed": false,
    "language": "python",
    "name": "cell1",
    "resultHeight": 0
   },
   "outputs": [],
   "source": [
    "# Import python packages\n",
    "import streamlit as st\n",
    "import pandas as pd\n",
    "\n",
    "# We can also use Snowpark for our analyses!\n",
    "from snowflake.snowpark.context import get_active_session\n",
    "session = get_active_session()\n"
   ]
  },
  {
   "cell_type": "code",
   "execution_count": null,
   "id": "085a6517-2d66-4622-a052-d9821e5b366c",
   "metadata": {
    "collapsed": false,
    "language": "sql",
    "name": "outages_raw",
    "resultHeight": 439
   },
   "outputs": [],
   "source": [
    "-- Reviewing the Outages RAW Data\n",
    "SELECT * \n",
    "FROM \n",
    "    OUTAGES_RAW_COORDINATES \n",
    "WHERE \n",
    "    1 = 1\n",
    "    AND INCIDENT_TEXT ILIKE '%tree%';"
   ]
  },
  {
   "cell_type": "code",
   "execution_count": null,
   "id": "b16a12cc-dc45-4628-b7dd-b6b89e4799b4",
   "metadata": {
    "collapsed": false,
    "language": "sql",
    "name": "outage_categories",
    "resultHeight": 439
   },
   "outputs": [],
   "source": [
    "-- Categories table. \n",
    "SELECT * \n",
    "FROM OUTAGES_CATEGORIES;"
   ]
  },
  {
   "cell_type": "code",
   "execution_count": null,
   "id": "784c05fd-71c2-4884-8afb-c53d166baa61",
   "metadata": {
    "collapsed": false,
    "language": "sql",
    "name": "OUTAGES_CATEGORIES_ARRAY",
    "resultHeight": 112
   },
   "outputs": [],
   "source": [
    "-- Converting categories into a single VARIANT\n",
    "CREATE OR REPLACE TABLE OUTAGES_CATEGORIES_ARRAY AS \n",
    "SELECT OBJECT_AGG(CATEGORY, KEYPHRASES) AS CATEGORY_PAYLOAD\n",
    "FROM (\n",
    "    SELECT CATEGORY, ARRAY_AGG(KEYPHRASE) AS KEYPHRASES\n",
    "    FROM OUTAGES_CATEGORIES\n",
    "    GROUP BY CATEGORY\n",
    ");"
   ]
  },
  {
   "cell_type": "code",
   "execution_count": null,
   "id": "a9908b89-b14c-489a-bfd9-fd93a93cd6f0",
   "metadata": {
    "collapsed": false,
    "language": "sql",
    "name": "OUTAGES_CATEGORIES_ARRAY2",
    "resultHeight": 112
   },
   "outputs": [],
   "source": [
    "SELECT * FROM OUTAGES_CATEGORIES_ARRAY;\n",
    "\n",
    "SELECT TO_CHAR(CATEGORY_PAYLOAD) FROM OUTAGES_CATEGORIES_ARRAY;"
   ]
  },
  {
   "cell_type": "code",
   "execution_count": null,
   "id": "637fa4db-e13f-48a3-b7b3-d3765a117120",
   "metadata": {
    "collapsed": false,
    "language": "sql",
    "name": "prompts_env",
    "resultHeight": 0
   },
   "outputs": [],
   "source": [
    "-- SETTING VARIABLES TO WORK WITH THE LLM\n",
    "SET CATEGORY_PROMPT = $$Classify the text provided into one or multiple of these categories. ONLY show categories matching the keyphrase and nothing else. Don't elaborate. If there is more than 1 category, ALWAYS show them comma separated. If no matching categories No Match: $$;\n",
    "\n",
    "SET CLASSIFYING_ISSUE_PROMPT = $$ text provided: $$;\n",
    "\n",
    "SET COUNT_PART_PROMPT = $$Identify parts and its corresponding count from the [Provided Text]. Enforce the format below. Return as a JSON object. If no match, return 0. Stay on task and only provide the Expected Format:\n",
    "{\n",
    "\"Poles\": 2 \n",
    "\"Transformer\": 3\n",
    "\"Line\": 1\n",
    "}\n",
    "\n",
    "[Provided Text]: \n",
    "$$;\n",
    "\n",
    "SET MODEL1 = 'llama3.1-70b';\n",
    "SET MODEL2 = 'llama3.1-405b';\n",
    "SET MODEL3 = 'mistral-7b';"
   ]
  },
  {
   "cell_type": "code",
   "execution_count": null,
   "id": "3bac31a4-6a84-47c0-bba8-a87366326fcf",
   "metadata": {
    "collapsed": false,
    "language": "sql",
    "name": "inference_llm",
    "resultHeight": 112
   },
   "outputs": [],
   "source": [
    "-- RUNNING BATCH LLM INFERENCE\n",
    "CREATE OR REPLACE TABLE OUTAGES_GENAI_CATEGORIES AS\n",
    "SELECT \n",
    "    INCIDENT_NUMBER, \n",
    "    INCIDENT_TEXT,\n",
    "    LATITUDE,\n",
    "    LONGITUDE,\n",
    "    SNOWFLAKE.CORTEX.COMPLETE(\n",
    "        'llama3.1-405b', \n",
    "        CONCAT($$\n",
    "            {\n",
    "              \"task\": \"Classify the incident into one or more of the predefined categories based on the provided keyphrases. Return ONLY the matching category names as a comma-separated list. If no category matches, return 'No Match'. Do not include any explanation, introduction, or additional text outside of the required response.\",\n",
    "              \"categories\": $$, (SELECT TO_CHAR(CATEGORY_PAYLOAD) FROM OUTAGES_CATEGORIES_ARRAY), $$\n",
    "              \"note\": \"Output format: 'Category1, Category2, ...'. If no match, output: 'No Match'.\",\n",
    "              \"incident\": $$, '{', INCIDENT_TEXT, $$\n",
    "            }\n",
    "        $$) \n",
    "    ) AS classification_result_llama3_1_405b,\n",
    "    SNOWFLAKE.CORTEX.COMPLETE(\n",
    "        'llama3.1-405b', \n",
    "        CONCAT($$\n",
    "            {\n",
    "              \"task\": \"Identify parts and their corresponding count from the provided incident text. Return ONLY the JSON object in the exact expected format below. Do not include any explanation, introduction, or additional text.\",\n",
    "              \"expected_format\": {\n",
    "                \"Poles\": 0,\n",
    "                \"Transformer\": 0,\n",
    "                \"Line\": 0\n",
    "              },\n",
    "              \"note\": \"Do not include any text outside the JSON object.\",\n",
    "              \"incident\": $$, '{', INCIDENT_TEXT, $$\n",
    "            }\n",
    "        $$) \n",
    "    ) AS part_count_result_llama3_1_405b\n",
    "FROM \n",
    "    OUTAGES_RAW_COORDINATES \n",
    "WHERE \n",
    "    INCIDENT_TEXT != '';"
   ]
  },
  {
   "cell_type": "code",
   "execution_count": null,
   "id": "c1a52c19-1cd6-4b2f-a38c-691562cfba78",
   "metadata": {
    "collapsed": false,
    "language": "sql",
    "name": "OUTAGES_GENAI_CATEGORIES",
    "resultHeight": 439
   },
   "outputs": [],
   "source": [
    "SELECT * FROM OUTAGES_GENAI_CATEGORIES;"
   ]
  },
  {
   "cell_type": "code",
   "execution_count": null,
   "id": "680a173a-d81b-43d1-a170-95882b46a859",
   "metadata": {
    "collapsed": false,
    "language": "sql",
    "name": "COUNT_PARTS",
    "resultHeight": 112
   },
   "outputs": [],
   "source": [
    "-- Counting the parts per category\n",
    "CREATE OR REPLACE TABLE OUTAGES_GENAI_CATEGORIES_COUNT AS\n",
    "WITH flattened_categories AS (\n",
    "    SELECT \n",
    "        INCIDENT_NUMBER, \n",
    "        INCIDENT_TEXT, \n",
    "        LATITUDE,\n",
    "        LONGITUDE,\n",
    "        CLASSIFICATION_RESULT_LLAMA3_1_405B,\n",
    "        TRIM(value::STRING) AS category\n",
    "    FROM \n",
    "        OUTAGES_GENAI_CATEGORIES  \n",
    "    , LATERAL FLATTEN(input => SPLIT(classification_result_llama3_1_405b, ','))  -- Flattening the categories for 405b\n",
    ")\n",
    "SELECT \n",
    "    LATITUDE,\n",
    "    LONGITUDE,\n",
    "    category, \n",
    "    COUNT(*) AS occurrence_count\n",
    "FROM \n",
    "    flattened_categories\n",
    "GROUP BY \n",
    "    LATITUDE,\n",
    "    LONGITUDE,\n",
    "    category\n",
    "ORDER BY \n",
    "    occurrence_count DESC;"
   ]
  },
  {
   "cell_type": "code",
   "execution_count": null,
   "id": "b22e5a01-f404-483b-afc3-8c6f0d9ef398",
   "metadata": {
    "collapsed": false,
    "language": "sql",
    "name": "OUTAGES_GENAI_CATEGORIES_COUNT",
    "resultHeight": 439
   },
   "outputs": [],
   "source": [
    "-- SHOWING THE COUNTS PER CATEGORY\n",
    "SELECT * \n",
    "FROM   OUTAGES_GENAI_CATEGORIES_COUNT;"
   ]
  },
  {
   "cell_type": "markdown",
   "id": "6323b878-852b-468c-9251-0568447cde78",
   "metadata": {
    "collapsed": false,
    "name": "cell2",
    "resultHeight": 60
   },
   "source": [
    "## Create Cortex Search service "
   ]
  },
  {
   "cell_type": "code",
   "execution_count": null,
   "id": "e4ebe026-0b6a-4cf7-85ba-896116b5981d",
   "metadata": {
    "collapsed": false,
    "language": "sql",
    "name": "create_cortex_search_service",
    "resultHeight": 112
   },
   "outputs": [],
   "source": [
    "CREATE OR REPLACE CORTEX SEARCH SERVICE HURRICANE_CORTEX_SEARCH \n",
    "ON INCIDENT_TEXT \n",
    "ATTRIBUTES\n",
    "\tINCIDENT_NUMBER \n",
    "WAREHOUSE = DEMO_WH \n",
    "TARGET_LAG = '365 days' \n",
    "AS (\n",
    "\tSELECT\n",
    "\t\tINCIDENT_TEXT,CLASSIFICATION_RESULT_LLAMA3_1_405B,INCIDENT_NUMBER\n",
    "\tFROM \n",
    "        CLASSIFICATION_DB.HURRICANE_SCHEMA.OUTAGES_GENAI_CATEGORIES\n",
    ");"
   ]
  }
 ],
 "metadata": {
  "kernelspec": {
   "display_name": "Streamlit Notebook",
   "name": "streamlit"
  }
 },
 "nbformat": 4,
 "nbformat_minor": 5
}
